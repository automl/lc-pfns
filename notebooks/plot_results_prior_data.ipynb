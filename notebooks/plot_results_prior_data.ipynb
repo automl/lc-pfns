{
 "cells": [
  {
   "cell_type": "code",
   "execution_count": 1,
   "id": "d3e3da37",
   "metadata": {},
   "outputs": [],
   "source": [
    "%load_ext autoreload\n",
    "%autoreload 2"
   ]
  },
  {
   "cell_type": "code",
   "execution_count": 2,
   "id": "20b9932d",
   "metadata": {},
   "outputs": [],
   "source": [
    "import numpy as np\n",
    "import pandas as pd\n",
    "import json\n",
    "import seaborn as sns\n",
    "from matplotlib import pyplot as plt\n",
    "from matplotlib.colors import to_rgba\n",
    "\n",
    "%matplotlib inline"
   ]
  },
  {
   "cell_type": "code",
   "execution_count": 3,
   "id": "ecb4ee7b",
   "metadata": {},
   "outputs": [],
   "source": [
    "def get_data():\n",
    "    return pd.read_csv(\"../data/data_clean_results.csv\")"
   ]
  },
  {
   "cell_type": "code",
   "execution_count": 4,
   "id": "14af9799",
   "metadata": {},
   "outputs": [],
   "source": [
    "df = get_data()"
   ]
  },
  {
   "cell_type": "code",
   "execution_count": 5,
   "id": "5e8344c0",
   "metadata": {
    "scrolled": true
   },
   "outputs": [
    {
     "data": {
      "text/html": [
       "<div>\n",
       "<style scoped>\n",
       "    .dataframe tbody tr th:only-of-type {\n",
       "        vertical-align: middle;\n",
       "    }\n",
       "\n",
       "    .dataframe tbody tr th {\n",
       "        vertical-align: top;\n",
       "    }\n",
       "\n",
       "    .dataframe thead th {\n",
       "        text-align: right;\n",
       "    }\n",
       "</style>\n",
       "<table border=\"1\" class=\"dataframe\">\n",
       "  <thead>\n",
       "    <tr style=\"text-align: right;\">\n",
       "      <th></th>\n",
       "      <th>t</th>\n",
       "      <th>y_pred</th>\n",
       "      <th>y</th>\n",
       "      <th>model</th>\n",
       "      <th>config_id</th>\n",
       "      <th>cutoff</th>\n",
       "      <th>nsamples</th>\n",
       "      <th>ll</th>\n",
       "      <th>fit_time</th>\n",
       "      <th>predict_time</th>\n",
       "    </tr>\n",
       "  </thead>\n",
       "  <tbody>\n",
       "    <tr>\n",
       "      <th>0</th>\n",
       "      <td>71</td>\n",
       "      <td>0.142822</td>\n",
       "      <td>0.128428</td>\n",
       "      <td>lc_extrapolation</td>\n",
       "      <td>93</td>\n",
       "      <td>70</td>\n",
       "      <td>520</td>\n",
       "      <td>2.775407</td>\n",
       "      <td>92.415781</td>\n",
       "      <td>19.613444</td>\n",
       "    </tr>\n",
       "    <tr>\n",
       "      <th>1</th>\n",
       "      <td>72</td>\n",
       "      <td>0.142892</td>\n",
       "      <td>0.143868</td>\n",
       "      <td>lc_extrapolation</td>\n",
       "      <td>93</td>\n",
       "      <td>70</td>\n",
       "      <td>520</td>\n",
       "      <td>3.315020</td>\n",
       "      <td>92.415781</td>\n",
       "      <td>19.613444</td>\n",
       "    </tr>\n",
       "    <tr>\n",
       "      <th>2</th>\n",
       "      <td>73</td>\n",
       "      <td>0.142961</td>\n",
       "      <td>0.141778</td>\n",
       "      <td>lc_extrapolation</td>\n",
       "      <td>93</td>\n",
       "      <td>70</td>\n",
       "      <td>520</td>\n",
       "      <td>3.308963</td>\n",
       "      <td>92.415781</td>\n",
       "      <td>19.613444</td>\n",
       "    </tr>\n",
       "    <tr>\n",
       "      <th>3</th>\n",
       "      <td>74</td>\n",
       "      <td>0.143028</td>\n",
       "      <td>0.123812</td>\n",
       "      <td>lc_extrapolation</td>\n",
       "      <td>93</td>\n",
       "      <td>70</td>\n",
       "      <td>520</td>\n",
       "      <td>2.376096</td>\n",
       "      <td>92.415781</td>\n",
       "      <td>19.613444</td>\n",
       "    </tr>\n",
       "    <tr>\n",
       "      <th>4</th>\n",
       "      <td>75</td>\n",
       "      <td>0.143095</td>\n",
       "      <td>0.142473</td>\n",
       "      <td>lc_extrapolation</td>\n",
       "      <td>93</td>\n",
       "      <td>70</td>\n",
       "      <td>520</td>\n",
       "      <td>3.312171</td>\n",
       "      <td>92.415781</td>\n",
       "      <td>19.613444</td>\n",
       "    </tr>\n",
       "  </tbody>\n",
       "</table>\n",
       "</div>"
      ],
      "text/plain": [
       "    t    y_pred         y             model  config_id  cutoff  nsamples  \\\n",
       "0  71  0.142822  0.128428  lc_extrapolation         93      70       520   \n",
       "1  72  0.142892  0.143868  lc_extrapolation         93      70       520   \n",
       "2  73  0.142961  0.141778  lc_extrapolation         93      70       520   \n",
       "3  74  0.143028  0.123812  lc_extrapolation         93      70       520   \n",
       "4  75  0.143095  0.142473  lc_extrapolation         93      70       520   \n",
       "\n",
       "         ll   fit_time  predict_time  \n",
       "0  2.775407  92.415781     19.613444  \n",
       "1  3.315020  92.415781     19.613444  \n",
       "2  3.308963  92.415781     19.613444  \n",
       "3  2.376096  92.415781     19.613444  \n",
       "4  3.312171  92.415781     19.613444  "
      ]
     },
     "execution_count": 5,
     "metadata": {},
     "output_type": "execute_result"
    }
   ],
   "source": [
    "df.head()"
   ]
  },
  {
   "cell_type": "code",
   "execution_count": 6,
   "id": "d84d879b",
   "metadata": {},
   "outputs": [
    {
     "name": "stderr",
     "output_type": "stream",
     "text": [
      "/tmp/ipykernel_1400680/588017664.py:1: SettingWithCopyWarning: \n",
      "A value is trying to be set on a copy of a slice from a DataFrame.\n",
      "Try using .loc[row_indexer,col_indexer] = value instead\n",
      "\n",
      "See the caveats in the documentation: https://pandas.pydata.org/pandas-docs/stable/user_guide/indexing.html#returning-a-view-versus-a-copy\n",
      "  df[df.model != \"lc_extrapolation\"].loc[:, 'nsamples'] = 4500 # hack seaborn\n"
     ]
    }
   ],
   "source": [
    "df[df.model != \"lc_extrapolation\"].loc[:, 'nsamples'] = 4500 # hack seaborn"
   ]
  },
  {
   "cell_type": "code",
   "execution_count": 7,
   "id": "c2cbaef5",
   "metadata": {},
   "outputs": [
    {
     "data": {
      "image/png": "[encoded data removed]",
      "text/plain": [
       "<Figure size 432x288 with 1 Axes>"
      ]
     },
     "metadata": {
      "needs_background": "light"
     },
     "output_type": "display_data"
    }
   ],
   "source": [
    "fig, ax = plt.subplots()\n",
    "\n",
    "color_dict = {\n",
    "    4500: to_rgba(\"red\", 1), \n",
    "    3000: to_rgba(\"red\", 0.8), \n",
    "    2500: to_rgba(\"red\", 0.7),\n",
    "    1500: to_rgba(\"red\", 0.4),\n",
    "    1000: to_rgba(\"red\", 0.3),\n",
    "    600: to_rgba(\"red\", 0.2),\n",
    "    520: to_rgba(\"red\", 0.1)\n",
    "}\n",
    "\n",
    "sns.lineplot(data=df[df.model == \"lc_extrapolation\"].groupby([\"model\", \"cutoff\", \"nsamples\"])[\"ll\"].mean().reset_index(), \n",
    "             x=\"cutoff\", y=\"ll\", hue=\"nsamples\", style_order=[4500, 3000, 2500, 1500, 1000, 600, 520], ax=ax, palette=color_dict)\n",
    "sns.lineplot(data=df[df.model != \"lc_extrapolation\"].groupby([\"model\", \"cutoff\", \"nsamples\"])[\"ll\"].mean().reset_index(), \n",
    "             x=\"cutoff\", y=\"ll\", style=\"model\", ax=ax, color=\"blue\", style_order=[\"pfn1000\", \"pfn100\", \"pfn10\"])\n",
    "\n",
    "\n",
    "handlers, labels = ax.get_legend_handles_labels()\n",
    "\n",
    "ax.set_ylabel(\"log-likelihood\")\n",
    "ax.set_xlabel(\"cutoff (epochs)\")\n",
    "\n",
    "lines = ax.get_lines()\n",
    "legend1 = plt.legend(lines[:5] + [lines[6]], [520, 600, 1000, 1500, 2500, 4500], frameon=False, title=\"MCMC\", bbox_to_anchor=(1, 1))\n",
    "legend2 = plt.legend(lines[-6:], [\"10M\", \"1M\", \"100k\"], frameon=False, title=\"PFN\", loc='lower right', bbox_to_anchor=(1.22, 0.02))\n",
    "ax.add_artist(legend1)\n",
    "\n",
    "fig.tight_layout()\n",
    "fig.savefig(\"models_log_likelihood.png\")"
   ]
  },
  {
   "cell_type": "code",
   "execution_count": null,
   "id": "339a83e3",
   "metadata": {},
   "outputs": [],
   "source": []
  },
  {
   "cell_type": "code",
   "execution_count": 8,
   "id": "41db2ca3",
   "metadata": {},
   "outputs": [],
   "source": [
    "df_lc = df[df.model == \"lc_extrapolation\"]"
   ]
  },
  {
   "cell_type": "code",
   "execution_count": 9,
   "id": "96a53a9c",
   "metadata": {},
   "outputs": [
    {
     "name": "stderr",
     "output_type": "stream",
     "text": [
      "/tmp/ipykernel_1400680/3820452805.py:1: SettingWithCopyWarning: \n",
      "A value is trying to be set on a copy of a slice from a DataFrame.\n",
      "Try using .loc[row_indexer,col_indexer] = value instead\n",
      "\n",
      "See the caveats in the documentation: https://pandas.pydata.org/pandas-docs/stable/user_guide/indexing.html#returning-a-view-versus-a-copy\n",
      "  df_lc[\"runtime\"] = df_lc.fit_time.values + df_lc.predict_time.values\n"
     ]
    }
   ],
   "source": [
    "df_lc[\"runtime\"] = df_lc.fit_time.values + df_lc.predict_time.values"
   ]
  },
  {
   "cell_type": "code",
   "execution_count": 10,
   "id": "1cfa914e",
   "metadata": {},
   "outputs": [],
   "source": [
    "sdf_lc = df_lc.drop([\"y_pred\", \"y\", \"model\", \"nsamples\", \"fit_time\", \"predict_time\", \"t\"], axis=1)\n",
    "sdf_lc = sdf_lc.groupby([\"config_id\", \"cutoff\", \"runtime\"])[\"ll\"].mean().reset_index()"
   ]
  },
  {
   "cell_type": "code",
   "execution_count": 11,
   "id": "f15cabe2",
   "metadata": {
    "scrolled": true
   },
   "outputs": [
    {
     "data": {
      "text/plain": [
       "149.61196899414062"
      ]
     },
     "execution_count": 11,
     "metadata": {},
     "output_type": "execute_result"
    }
   ],
   "source": [
    "sdf_lc.groupby([\"config_id\", \"cutoff\"]).apply(lambda x: x.runtime.min()).max()"
   ]
  },
  {
   "cell_type": "code",
   "execution_count": 12,
   "id": "d57b044e",
   "metadata": {},
   "outputs": [],
   "source": [
    "def cum_ll_time(_df):\n",
    "    idx = np.arange(150, 800, 20)\n",
    "    lls = [_df[_df.runtime < t].iloc[-1].ll for t in idx]\n",
    "    return pd.DataFrame({\n",
    "        \"runtime\": idx,\n",
    "        \"lls\": lls\n",
    "    })"
   ]
  },
  {
   "cell_type": "code",
   "execution_count": 13,
   "id": "ee8c1fe8",
   "metadata": {},
   "outputs": [],
   "source": [
    "df_cum = sdf_lc.groupby([\"config_id\", \"cutoff\"]).apply(cum_ll_time)\n",
    "df_cum = df_cum.reset_index()"
   ]
  },
  {
   "cell_type": "code",
   "execution_count": 14,
   "id": "bcdeb85c",
   "metadata": {
    "scrolled": true
   },
   "outputs": [
    {
     "name": "stderr",
     "output_type": "stream",
     "text": [
      "/tmp/ipykernel_1400680/1107962474.py:2: SettingWithCopyWarning: \n",
      "A value is trying to be set on a copy of a slice from a DataFrame.\n",
      "Try using .loc[row_indexer,col_indexer] = value instead\n",
      "\n",
      "See the caveats in the documentation: https://pandas.pydata.org/pandas-docs/stable/user_guide/indexing.html#returning-a-view-versus-a-copy\n",
      "  df_pfn[\"runtime\"] = df_pfn.fit_time.values + df_pfn.predict_time.values\n"
     ]
    }
   ],
   "source": [
    "df_pfn = df[df.model == \"pfn1000\"]\n",
    "df_pfn[\"runtime\"] = df_pfn.fit_time.values + df_pfn.predict_time.values"
   ]
  },
  {
   "cell_type": "code",
   "execution_count": 15,
   "id": "9368caf1",
   "metadata": {},
   "outputs": [],
   "source": [
    "sdf_pfn = df_pfn.drop([\"y_pred\", \"y\", \"model\", \"nsamples\", \"fit_time\", \"predict_time\", \"t\"], axis=1)\n",
    "sdf_pfn = sdf_pfn.groupby([\"config_id\", \"cutoff\", \"runtime\"])[\"ll\"].mean().reset_index()"
   ]
  },
  {
   "cell_type": "code",
   "execution_count": 16,
   "id": "204d6c45",
   "metadata": {},
   "outputs": [],
   "source": [
    "pfn = sdf_pfn[sdf_pfn.cutoff == 10]"
   ]
  },
  {
   "cell_type": "code",
   "execution_count": null,
   "id": "1e993725",
   "metadata": {},
   "outputs": [],
   "source": []
  },
  {
   "cell_type": "code",
   "execution_count": 17,
   "id": "bc08322a",
   "metadata": {},
   "outputs": [
    {
     "data": {
      "image/png": "[encoded data removed]",
      "text/plain": [
       "<Figure size 432x288 with 1 Axes>"
      ]
     },
     "metadata": {
      "needs_background": "light"
     },
     "output_type": "display_data"
    }
   ],
   "source": [
    "fig, ax = plt.subplots()\n",
    "sns.lineplot(data=df_cum[df_cum.cutoff == 10], x=\"runtime\", y=\"lls\", ax=ax, color=\"red\")\n",
    "sc = ax.scatter(x=[2], \n",
    "           y=[pfn.ll.mean()], label=\"PFN\", color=\"blue\", s=[60], marker=\"X\")\n",
    "ax.set_xscale(\"log\")\n",
    "ax.axhline(y=pfn.ll.mean(), color=\"gray\", linestyle=\"dotted\")\n",
    "lines = ax.get_lines()\n",
    "ax.legend([lines[0], sc], [\"MCMC\", \"PFN\"], frameon=True, loc=3)\n",
    "ax.set_xlabel(\"Runtime (sec)\")\n",
    "ax.set_ylabel(\"Log-likelihood\")\n",
    "fig.savefig(\"runtime.png\")"
   ]
  },
  {
   "cell_type": "code",
   "execution_count": 18,
   "id": "25a60e1c",
   "metadata": {},
   "outputs": [],
   "source": [
    "df.loc[df.model == \"lc_extrapolation\", \"model\"] = df[df.model == \"lc_extrapolation\"].nsamples.apply(lambda x: \"MCMC_\" + str(x))"
   ]
  },
  {
   "cell_type": "code",
   "execution_count": 19,
   "id": "ddf0e934",
   "metadata": {},
   "outputs": [],
   "source": [
    "map_name = {\n",
    "    \"MCMC_520\": \"\\\\mcmc{520}\",\n",
    "    \"MCMC_600\": \"\\\\mcmc{600}\",\n",
    "    \"MCMC_1000\": \"\\\\mcmc{1000}\",\n",
    "    \"MCMC_1500\": \"\\\\mcmc{1500}\",\n",
    "    \"MCMC_2500\": \"\\\\mcmc{2500}\",\n",
    "    \"MCMC_3000\": \"\\\\mcmc{3000}\",\n",
    "    \"MCMC_4500\": \"\\\\mcmc{4500}\",\n",
    "    \"pfn10\": \"\\\\pfn{100k}\",\n",
    "    \"pfn100\": \"\\\\pfn{1M}\",\n",
    "    \"pfn1000\": \"\\\\pfn{10M}\",\n",
    "}"
   ]
  },
  {
   "cell_type": "code",
   "execution_count": 20,
   "id": "6f1fe949",
   "metadata": {},
   "outputs": [
    {
     "name": "stdout",
     "output_type": "stream",
     "text": [
      "\\mcmc{520}        & 1.7 $\\pm$ 0.85  & 1e+02 $\\pm$ 2.2e+01 & 2.1 $\\pm$ 0.99  & 1.1e+02 $\\pm$ 2.2e+01 & 2.3 $\\pm$ 0.91  & 1.1e+02 $\\pm$ 2.7e+01 & 2.5 $\\pm$ 0.93  & 1.1e+02 $\\pm$ 2.8e+01 & 2.5 $\\pm$ 0.95  & 1.1e+02 $\\pm$ 2.8e+01 \\\\\n",
      "\\mcmc{600}        & 1.7 $\\pm$ 0.85  & 1.1e+02 $\\pm$ 2.5e+01 & 2.1 $\\pm$ 0.99  & 1.2e+02 $\\pm$ 2.5e+01 & 2.4 $\\pm$ 0.91  & 1.2e+02 $\\pm$ 3e+01 & 2.5 $\\pm$ 0.93  & 1.2e+02 $\\pm$ 3.1e+01 & 2.5 $\\pm$ 0.96  & 1.2e+02 $\\pm$ 3.2e+01 \\\\\n",
      "\\mcmc{1000}       & 1.8 $\\pm$ 0.86  & 1.6e+02 $\\pm$ 3.7e+01 & 2.1 $\\pm$ 0.98  & 1.7e+02 $\\pm$ 3.7e+01 & 2.4 $\\pm$ 0.92  & 1.7e+02 $\\pm$ 4.5e+01 & 2.5 $\\pm$ 0.93  & 1.8e+02 $\\pm$ 4.8e+01 & 2.5 $\\pm$ 0.96  & 1.8e+02 $\\pm$ 4.8e+01 \\\\\n",
      "\\mcmc{1500}       & 1.8 $\\pm$ 0.89  & 2.3e+02 $\\pm$ 5.3e+01 & 2.1 $\\pm$ 1.0  & 2.4e+02 $\\pm$ 5.3e+01 & 2.4 $\\pm$ 0.92  & 2.4e+02 $\\pm$ 6.3e+01 & 2.5 $\\pm$ 0.93  & 2.5e+02 $\\pm$ 6.7e+01 & 2.5 $\\pm$ 0.96  & 2.5e+02 $\\pm$ 6.8e+01 \\\\\n",
      "\\mcmc{2500}       & 1.8 $\\pm$ 0.91  & 3.5e+02 $\\pm$ 8.3e+01 & 2.1 $\\pm$ 1.0  & 3.7e+02 $\\pm$ 8.3e+01 & 2.4 $\\pm$ 0.93  & 3.7e+02 $\\pm$ 9.9e+01 & 2.5 $\\pm$ 0.94  & 3.8e+02 $\\pm$ 1.1e+02 & 2.5 $\\pm$ 0.96  & 3.8e+02 $\\pm$ 1.1e+02 \\\\\n",
      "\\mcmc{3000}       & 1.8 $\\pm$ 0.92  & 4.1e+02 $\\pm$ 9.8e+01 & 2.1 $\\pm$ 1.0  & 4.3e+02 $\\pm$ 9.7e+01 & 2.4 $\\pm$ 0.93  & 4.4e+02 $\\pm$ 1.2e+02 & 2.5 $\\pm$ 0.94  & 4.5e+02 $\\pm$ 1.2e+02 & 2.5 $\\pm$ 0.96  & 4.5e+02 $\\pm$ 1.3e+02 \\\\\n",
      "\\mcmc{4500}       & 1.8 $\\pm$ 0.94  & 6e+02 $\\pm$ 1.4e+02 & 2.2 $\\pm$ 1.0  & 6.3e+02 $\\pm$ 1.4e+02 & 2.4 $\\pm$ 0.93  & 6.3e+02 $\\pm$ 1.7e+02 & 2.5 $\\pm$ 0.94  & 6.4e+02 $\\pm$ 1.8e+02 & 2.5 $\\pm$ 0.97  & 6.5e+02 $\\pm$ 1.8e+02 \\\\\n",
      "\\pfn{100k}        & 1.7 $\\pm$ 0.87  & 0.039 $\\pm$ 0.00074 & 1.9 $\\pm$ 0.71  & 0.039 $\\pm$ 0.00082 & 2.0 $\\pm$ 0.61  & 0.039 $\\pm$ 0.00072 & 2.0 $\\pm$ 0.6  & 0.039 $\\pm$ 0.00078 & 2.0 $\\pm$ 0.61  & 0.039 $\\pm$ 0.00091 \\\\\n",
      "\\pfn{1M}          & 1.9 $\\pm$ 0.95  & 0.039 $\\pm$ 0.00076 & 2.2 $\\pm$ 0.92  & 0.039 $\\pm$ 0.00057 & 2.4 $\\pm$ 0.86  & 0.039 $\\pm$ 0.0008 & 2.4 $\\pm$ 0.86  & 0.039 $\\pm$ 0.00059 & 2.4 $\\pm$ 0.88  & 0.039 $\\pm$ 0.00069 \\\\\n",
      "\\pfn{10M}         & 1.9 $\\pm$ 0.94  & 0.04 $\\pm$ 0.00077 & 2.2 $\\pm$ 0.92  & 0.04 $\\pm$ 0.00092 & 2.4 $\\pm$ 0.92  & 0.04 $\\pm$ 0.00084 & 2.5 $\\pm$ 0.95  & 0.04 $\\pm$ 0.0008 & 2.5 $\\pm$ 0.97  & 0.04 $\\pm$ 0.00086 \\\\\n"
     ]
    }
   ],
   "source": [
    "df[\"inference_time\"] = df[\"fit_time\"] + df[\"predict_time\"]\n",
    "df_g = df.groupby([\"model\", \"cutoff\", \"config_id\"])\n",
    "\n",
    "MSE = df_g[[\"y_pred\", \"y\"]].apply(lambda x: ((x.y_pred - x.y).values**2).mean()).reset_index().reset_index().groupby([\"model\", \"cutoff\"])[0]\n",
    "\n",
    "TIME = df_g[[\"inference_time\"]].first().reset_index().groupby([\"model\", \"cutoff\"])[[\"inference_time\"]]\n",
    "LL = df_g[\"ll\"].mean().reset_index().groupby([\"model\", \"cutoff\"])[\"ll\"]\n",
    "for model in ['MCMC_520', 'MCMC_600', 'MCMC_1000', 'MCMC_1500', 'MCMC_2500',\n",
    "       'MCMC_3000', 'MCMC_4500', \"pfn10\", \"pfn100\", \"pfn1000\"]:\n",
    "    res_cutoff = \" & \".join([\"{:.2} $\\\\pm$ {:.2}  & {:.2} $\\\\pm$ {:.2}\".format(\n",
    "                                                                                LL.mean().loc[model, cutoff], \n",
    "                                                                                LL.std().loc[model, cutoff],\n",
    "    TIME.mean().loc[model, cutoff].inference_time, \n",
    "        TIME.std().loc[model, cutoff].inference_time,) \n",
    " for cutoff in [10, 20, 40, 70, 90]])\n",
    "    print(\"{:17} & {} \\\\\\\\\".format(\n",
    "        map_name[model],\n",
    "        res_cutoff\n",
    "    ))"
   ]
  }
 ],
 "metadata": {
  "kernelspec": {
   "display_name": "lcpnf",
   "language": "python",
   "name": "lcpnf"
  },
  "language_info": {
   "codemirror_mode": {
    "name": "ipython",
    "version": 3
   },
   "file_extension": ".py",
   "mimetype": "text/x-python",
   "name": "python",
   "nbconvert_exporter": "python",
   "pygments_lexer": "ipython3",
   "version": "3.10.4"
  }
 },
 "nbformat": 4,
 "nbformat_minor": 5
}
